{
 "cells": [
  {
   "cell_type": "code",
   "execution_count": 23,
   "metadata": {},
   "outputs": [],
   "source": [
    "class Movie:\n",
    "    def __init__(self, title=None, year=None, genres=None, plot=None, rating=None, \n",
    "                 poster=None, folder_name=None):\n",
    "        self.movie_info = {\n",
    "            'title': title,\n",
    "            'year': year,\n",
    "            'genres': genres,\n",
    "            'plot': plot,\n",
    "            'rating': rating,\n",
    "            'poster': poster,\n",
    "            'folder_name': folder_name\n",
    "        }\n",
    "\n",
    "    def __str__(self):\n",
    "        return f\"Movie Info:\\nTitle: {self.movie_info['title']}\\nYear: {self.movie_info['year']}\\nGenres: {self.movie_info['genres']}\\nPlot: {self.movie_info['plot']}\\nRating: {self.movie_info['rating']}\\nPoster: {self.movie_info['poster']}\""
   ]
  },
  {
   "cell_type": "code",
   "execution_count": 38,
   "metadata": {},
   "outputs": [],
   "source": [
    "import os\n",
    "import re\n",
    "def directory_movie_list(directory_path):\n",
    "    \"\"\"\n",
    "    Create a list of the movies in the directory.\n",
    "\n",
    "    :param: (str) Path for the movies directory.\n",
    "    :return: (list: str) A list of the movies in the directory.\n",
    "    :raises:\n",
    "    \"\"\"\n",
    "    directory_movie_list = []\n",
    "    for folder in os.listdir(directory_path):\n",
    "        get_movie_title = lambda folder_name: re.search(r\"(?:\\[.*\\][ -]*)*(.*?)(?:\\()*(\\d{4})\", folder_name).group(1).replace('.', ' ')\n",
    "        directory_movie_list.append(get_movie_title(folder))\n",
    "    return directory_movie_list"
   ]
  },
  {
   "cell_type": "code",
   "execution_count": 26,
   "metadata": {},
   "outputs": [],
   "source": [
    "from imdb import Cinemagoer\n",
    "def update_movie_info(movie_title):\n",
    "    \"\"\"\n",
    "    Search for movie in IMDb and return an updated movie obj if found.\n",
    "    \n",
    "    :param: (str) Movie title from the directory.\n",
    "    :return: (Movie) Updated movie object OR None if movie not found.\n",
    "    :raises:\n",
    "    \"\"\"\n",
    "    ia = Cinemagoer() \n",
    "    movie_search_results = ia.search_movie(movie_title)\n",
    "    if movie_search_results:\n",
    "        movie_info = movie_search_results[0]\n",
    "        ia.update(movie_info)\n",
    "    else: \n",
    "        return None\n",
    "\n",
    "    keys_dict = {\n",
    "            'title': 'title',\n",
    "            'year': 'year',\n",
    "            'genres': 'genres',\n",
    "            'plot': 'plot outline',\n",
    "            'rating': 'rating',\n",
    "            'poster': 'cover url',\n",
    "        }\n",
    "    movie = Movie()\n",
    "    for key in keys_dict:\n",
    "        if keys_dict[key]in movie_info.data:\n",
    "            movie.movie_info[key] = movie_info.data[keys_dict[key]] \n",
    "\n",
    "    return movie"
   ]
  },
  {
   "cell_type": "code",
   "execution_count": 27,
   "metadata": {},
   "outputs": [],
   "source": [
    "def get_movie_list(directory_movies):\n",
    "    \"\"\"\n",
    "    Create a list of movies with updated info.\n",
    "    \n",
    "    :param: (list: str) A list of the movies found in the directory.\n",
    "    :return: (list: Movie) A list of movies with updated info.\n",
    "    :raises:\n",
    "    \"\"\"\n",
    "    movie_list = []\n",
    "\n",
    "    for movie_title in directory_movies:\n",
    "        movie_info = update_movie_info(movie_title)\n",
    "        if movie_info:\n",
    "            movie_list.append(movie_info)\n",
    "    return movie_list\n"
   ]
  },
  {
   "cell_type": "code",
   "execution_count": 28,
   "metadata": {},
   "outputs": [],
   "source": [
    "import base64\n",
    "import requests\n",
    "\n",
    "def image_url_to_base64(image_url):\n",
    "    \"\"\"\n",
    "    Retrieve movie poster as binary image and encode it as base64 then to UTF-8 string.\n",
    "    \n",
    "    :param: (str) url for the movie poster.\n",
    "    :return: (str) movie poster as UTF-8 string.\n",
    "    :raises:\n",
    "    \"\"\"\n",
    "    response = requests.get(image_url)\n",
    "    if response.status_code == 200:\n",
    "        image_data = response.content\n",
    "        base64_image = base64.b64encode(image_data).decode(\"utf-8\")\n",
    "        return base64_image\n",
    "    else:\n",
    "        return None"
   ]
  },
  {
   "cell_type": "code",
   "execution_count": 46,
   "metadata": {},
   "outputs": [],
   "source": [
    "def get_movie_md(movie):\n",
    "    \"\"\"\n",
    "    Generate content in markdown format using data from a movie object.\n",
    "    \n",
    "    :param: (Movie) \n",
    "    :return: (str) movie data in markdown format.\n",
    "    :raises:\n",
    "    \"\"\"\n",
    "    movie_md = ''\n",
    "    newline = lambda: ' \\n '\n",
    "\n",
    "    if movie.movie_info['title']:\n",
    "        movie_md += \"### {} \".format(movie.movie_info['title'])\n",
    "\n",
    "    if movie.movie_info['year']:\n",
    "        movie_md += \"({})\".format(movie.movie_info['year']) + newline()\n",
    "\n",
    "    if movie.movie_info['poster']:\n",
    "        base64_image = image_url_to_base64(movie.movie_info['poster']) \n",
    "        movie_md += \"![Image](data:image/png;base64,{})\".format(base64_image) + newline()\n",
    "    \n",
    "    if movie.movie_info['rating']:\n",
    "        movie_md += \"* **rating:** {}\".format(movie.movie_info['rating']) + newline()\n",
    "\n",
    "    if movie.movie_info['genres']:\n",
    "        movie_md += \"* **genres:** \"\n",
    "        for genre in movie.movie_info['genres']:\n",
    "            movie_md += \"{} \".format(genre)\n",
    "        movie_md += newline()\n",
    "\n",
    "    if movie.movie_info['plot']:\n",
    "        movie_md += \"* **plot:** {}\".format(movie.movie_info['plot']) + newline()\n",
    "\n",
    "    movie_md += newline()\n",
    "\n",
    "    return  movie_md "
   ]
  },
  {
   "cell_type": "code",
   "execution_count": 51,
   "metadata": {},
   "outputs": [],
   "source": [
    "def write_md(movies, directory_path):\n",
    "    \"\"\"\n",
    "    Write movie data to My_Movies.md file.\n",
    "    \n",
    "    :param: (list: Movie) \n",
    "    :return: \n",
    "    :raises:\n",
    "    \"\"\"\n",
    "    file_path = directory_path + '\\My_Movies.md'  \n",
    "    content = \"# My Movie Collection:  \\n \"\n",
    "\n",
    "    for movie in movies:\n",
    "        content += get_movie_md(movie)\n",
    "\n",
    "    with open(file_path,'w', encoding='utf-8') as file:\n",
    "        file.write(content)\n",
    "\n",
    "    print(f\"Content written to {file_path}\")"
   ]
  },
  {
   "cell_type": "code",
   "execution_count": 50,
   "metadata": {},
   "outputs": [
    {
     "name": "stdout",
     "output_type": "stream",
     "text": [
      "Content written to C:\\Users\\hkhaw\\Videos\\MyMovies\\My_Movies.md\n"
     ]
    }
   ],
   "source": [
    "if __name__ == \"__main__\":\n",
    "    try:\n",
    "        user_input = input(\"Enter your movie directory path: \")\n",
    "        directory_movies= directory_movie_list(user_input)\n",
    "        movies = get_movie_list(directory_movies)\n",
    "        write_md(movies, user_input)    \n",
    "    except Exception as e:\n",
    "        print(e)"
   ]
  },
  {
   "cell_type": "code",
   "execution_count": null,
   "metadata": {},
   "outputs": [],
   "source": []
  }
 ],
 "metadata": {
  "kernelspec": {
   "display_name": "pyenv",
   "language": "python",
   "name": "python3"
  },
  "language_info": {
   "codemirror_mode": {
    "name": "ipython",
    "version": 3
   },
   "file_extension": ".py",
   "mimetype": "text/x-python",
   "name": "python",
   "nbconvert_exporter": "python",
   "pygments_lexer": "ipython3",
   "version": "3.11.5"
  }
 },
 "nbformat": 4,
 "nbformat_minor": 2
}
